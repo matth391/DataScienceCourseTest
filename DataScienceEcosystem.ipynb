{
 "cells": [
  {
   "cell_type": "markdown",
   "id": "78b068ed",
   "metadata": {},
   "source": [
    "# Data Science Tools and Ecosystem"
   ]
  },
  {
   "cell_type": "markdown",
   "id": "b0e672fd",
   "metadata": {},
   "source": [
    "In this notebook, Data Science Tools and Ecosystem are summarized."
   ]
  },
  {
   "cell_type": "markdown",
   "id": "60867af5",
   "metadata": {},
   "source": [
    "**Objectives:**\n",
    "- List popular DataScience languages\n",
    "- List popular DataScience libraries\n",
    "- Apply what we have learned during this course\n",
    "- Create ordered list markdown\n",
    "\n"
   ]
  },
  {
   "cell_type": "markdown",
   "id": "95f4b41e",
   "metadata": {},
   "source": [
    "## Some of the popular languages that Data Scientists use are:\n",
    "\n",
    "1. Python\n",
    "2. R\n",
    "3. SQL"
   ]
  },
  {
   "cell_type": "markdown",
   "id": "2608713e",
   "metadata": {},
   "source": [
    "## Some of the commonly used libraries used by Data Scientists include:\n",
    "1. Pandas\n",
    "2. NumPy\n",
    "3. Matplotlib"
   ]
  },
  {
   "cell_type": "markdown",
   "id": "a01caa6f",
   "metadata": {},
   "source": [
    "\n",
    "| Data Science Tools |\n",
    "| -------------| \n",
    "| JupyterLab | \n",
    "| RStudio | \n",
    "| Anaconda | "
   ]
  },
  {
   "cell_type": "markdown",
   "id": "1412bca2",
   "metadata": {},
   "source": [
    "### Below are a few examples of evaluating arithmetic expressions in Python :"
   ]
  },
  {
   "cell_type": "markdown",
   "id": "a09be20e",
   "metadata": {},
   "source": [
    "This a simple arithmetic expression to mutiply then add integers"
   ]
  },
  {
   "cell_type": "code",
   "execution_count": 2,
   "id": "bf854d65",
   "metadata": {},
   "outputs": [
    {
     "data": {
      "text/plain": [
       "17"
      ]
     },
     "execution_count": 2,
     "metadata": {},
     "output_type": "execute_result"
    }
   ],
   "source": [
    "(3*4)+5"
   ]
  },
  {
   "cell_type": "markdown",
   "id": "4cabd1aa",
   "metadata": {},
   "source": [
    "This will convert 200 minutes to hours by diving by 60"
   ]
  },
  {
   "cell_type": "code",
   "execution_count": 3,
   "id": "41e6efa9",
   "metadata": {},
   "outputs": [
    {
     "data": {
      "text/plain": [
       "3.3333333333333335"
      ]
     },
     "execution_count": 3,
     "metadata": {},
     "output_type": "execute_result"
    }
   ],
   "source": [
    "200/60"
   ]
  },
  {
   "cell_type": "markdown",
   "id": "c205aab9",
   "metadata": {},
   "source": [
    "## Author\n",
    "\n",
    "LAGEL Matthieu"
   ]
  },
  {
   "cell_type": "code",
   "execution_count": null,
   "id": "c7274b8f",
   "metadata": {},
   "outputs": [],
   "source": []
  }
 ],
 "metadata": {
  "kernelspec": {
   "display_name": "Python 3 (ipykernel)",
   "language": "python",
   "name": "python3"
  },
  "language_info": {
   "codemirror_mode": {
    "name": "ipython",
    "version": 3
   },
   "file_extension": ".py",
   "mimetype": "text/x-python",
   "name": "python",
   "nbconvert_exporter": "python",
   "pygments_lexer": "ipython3",
   "version": "3.11.5"
  }
 },
 "nbformat": 4,
 "nbformat_minor": 5
}
